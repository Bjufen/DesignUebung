{
 "cells": [
  {
   "cell_type": "code",
   "execution_count": 98,
   "id": "68dfb2d24b90fd8f",
   "metadata": {
    "collapsed": true,
    "ExecuteTime": {
     "end_time": "2024-01-13T19:09:02.980880Z",
     "start_time": "2024-01-13T19:09:02.873959900Z"
    }
   },
   "outputs": [],
   "source": [
    "import pandas as pd\n",
    "from sklearn.model_selection import train_test_split\n",
    "from sklearn.linear_model import LogisticRegression\n",
    "from sklearn.metrics import classification_report, confusion_matrix\n",
    "import matplotlib.pyplot as plt\n",
    "import seaborn as sns"
   ]
  },
  {
   "cell_type": "code",
   "execution_count": 99,
   "outputs": [],
   "source": [
    "data = pd.read_csv('DesignuebungGradingData.csv')"
   ],
   "metadata": {
    "collapsed": false,
    "ExecuteTime": {
     "end_time": "2024-01-13T19:09:02.981878900Z",
     "start_time": "2024-01-13T19:09:02.896006400Z"
    }
   },
   "id": "be086e17f42c5245"
  },
  {
   "cell_type": "code",
   "execution_count": 100,
   "outputs": [],
   "source": [
    "def categorize_time(time):\n",
    "    if time <= 30:\n",
    "        return '0-30'\n",
    "    elif time <= 60:\n",
    "        return '31-60'\n",
    "    elif time <= 90:\n",
    "        return '61-90'\n",
    "    else:\n",
    "        return '91+'\n",
    "\n",
    "data['Time Category'] = data['Time to complete exam'].apply(categorize_time)"
   ],
   "metadata": {
    "collapsed": false,
    "ExecuteTime": {
     "end_time": "2024-01-13T19:09:02.982890800Z",
     "start_time": "2024-01-13T19:09:02.930665400Z"
    }
   },
   "id": "56a7628f67a786ed"
  },
  {
   "cell_type": "code",
   "execution_count": 101,
   "outputs": [],
   "source": [
    "data['Nachklausur'] = data['Nachklausur'].str.lower()"
   ],
   "metadata": {
    "collapsed": false,
    "ExecuteTime": {
     "end_time": "2024-01-13T19:09:02.982890800Z",
     "start_time": "2024-01-13T19:09:02.951966100Z"
    }
   },
   "id": "49e4c0bf2d29e7f9"
  },
  {
   "cell_type": "code",
   "execution_count": 102,
   "outputs": [],
   "source": [
    "data['Status'] = data['Grade'].apply(lambda x: 'Pass' if x != 5 else 'Fail')\n",
    "\n",
    "columns = ['Time Category', 'Year', 'Nachklausur', 'Course', 'Attemptnumber', 'Study', 'Bachelor/Master']"
   ],
   "metadata": {
    "collapsed": false,
    "ExecuteTime": {
     "end_time": "2024-01-13T19:09:02.983886Z",
     "start_time": "2024-01-13T19:09:02.976881500Z"
    }
   },
   "id": "2307427949f8436a"
  },
  {
   "cell_type": "code",
   "execution_count": 103,
   "outputs": [],
   "source": [
    "colors = {'Pass': 'green', 'Fail': 'red'}\n",
    "\n",
    "stacked_data_percent = {}\n",
    "for col in columns:\n",
    "    category_counts = data.groupby([col, 'Status']).size().unstack(fill_value=0)\n",
    "\n",
    "    category_percent = category_counts.div(category_counts.sum(axis=1), axis=0) * 100\n",
    "    stacked_data_percent[col] = category_percent"
   ],
   "metadata": {
    "collapsed": false,
    "ExecuteTime": {
     "end_time": "2024-01-13T19:09:03.034096700Z",
     "start_time": "2024-01-13T19:09:02.988566900Z"
    }
   },
   "id": "b27555a768b09039"
  },
  {
   "cell_type": "code",
   "execution_count": null,
   "outputs": [],
   "source": [
    "for col, df in stacked_data_percent.items():\n",
    "    df.plot(kind='barh', stacked=True, color=[colors[status] for status in df.columns],\n",
    "            title=f'Percentage Stacked Bar Chart of {col}')\n",
    "    plt.ylabel(col)\n",
    "    plt.xlabel('Percentage of Students')\n",
    "    plt.legend(loc='best')\n",
    "    plt.show()"
   ],
   "metadata": {
    "collapsed": false,
    "is_executing": true
   },
   "id": "fdd361d2a0c6592a"
  },
  {
   "cell_type": "code",
   "execution_count": 105,
   "outputs": [],
   "source": [
    "one_hot_data = data.drop(['Time to complete exam', 'Grade'], axis=1)"
   ],
   "metadata": {
    "collapsed": false,
    "ExecuteTime": {
     "end_time": "2024-01-13T19:09:06.672408200Z",
     "start_time": "2024-01-13T19:09:06.619971500Z"
    }
   },
   "id": "1fa841d183eb3c4a"
  },
  {
   "cell_type": "code",
   "execution_count": 106,
   "outputs": [],
   "source": [
    "for col in one_hot_data.columns:\n",
    "    one_hot_data[col] = one_hot_data[col].astype('category')\n",
    "\n",
    "one_hot_data['Status'] = one_hot_data['Status'].cat.codes\n",
    "\n",
    "one_hot_data = pd.get_dummies(one_hot_data)"
   ],
   "metadata": {
    "collapsed": false,
    "ExecuteTime": {
     "end_time": "2024-01-13T19:09:06.672408200Z",
     "start_time": "2024-01-13T19:09:06.645676600Z"
    }
   },
   "id": "aa4537675da605cf"
  },
  {
   "cell_type": "code",
   "execution_count": 107,
   "outputs": [
    {
     "data": {
      "text/plain": "<Figure size 800x600 with 2 Axes>",
      "image/png": "[encoded data removed]"
     },
     "metadata": {},
     "output_type": "display_data"
    },
    {
     "name": "stdout",
     "output_type": "stream",
     "text": [
      "              precision    recall  f1-score   support\n",
      "\n",
      "           0       0.56      0.26      0.36        19\n",
      "           1       0.86      0.95      0.90        88\n",
      "\n",
      "    accuracy                           0.83       107\n",
      "   macro avg       0.71      0.61      0.63       107\n",
      "weighted avg       0.80      0.83      0.81       107\n"
     ]
    },
    {
     "data": {
      "text/plain": "                                Coefficient\nYear_2021                          0.169450\nYear_2022                         -0.391966\nYear_2023                          0.222530\nNachklausur_no                    -0.056967\nNachklausur_yes                    0.056981\nCourse_VA                          0.001437\nCourse_Vis                        -0.001422\nAttemptnumber_1                    0.552041\nAttemptnumber_2                    0.009572\nAttemptnumber_3                   -0.561599\nStudy_(Wirtschafts-)Mathematik    -0.066050\nStudy_WirtschaftsInformatik        0.066064\nBachelor/Master_Bachelor           0.153577\nBachelor/Master_Master            -0.153562\nTime Category_0-30                -1.977947\nTime Category_31-60                1.189441\nTime Category_61-90                0.788520",
      "text/html": "<div>\n<style scoped>\n    .dataframe tbody tr th:only-of-type {\n        vertical-align: middle;\n    }\n\n    .dataframe tbody tr th {\n        vertical-align: top;\n    }\n\n    .dataframe thead th {\n        text-align: right;\n    }\n</style>\n<table border=\"1\" class=\"dataframe\">\n  <thead>\n    <tr style=\"text-align: right;\">\n      <th></th>\n      <th>Coefficient</th>\n    </tr>\n  </thead>\n  <tbody>\n    <tr>\n      <th>Year_2021</th>\n      <td>0.169450</td>\n    </tr>\n    <tr>\n      <th>Year_2022</th>\n      <td>-0.391966</td>\n    </tr>\n    <tr>\n      <th>Year_2023</th>\n      <td>0.222530</td>\n    </tr>\n    <tr>\n      <th>Nachklausur_no</th>\n      <td>-0.056967</td>\n    </tr>\n    <tr>\n      <th>Nachklausur_yes</th>\n      <td>0.056981</td>\n    </tr>\n    <tr>\n      <th>Course_VA</th>\n      <td>0.001437</td>\n    </tr>\n    <tr>\n      <th>Course_Vis</th>\n      <td>-0.001422</td>\n    </tr>\n    <tr>\n      <th>Attemptnumber_1</th>\n      <td>0.552041</td>\n    </tr>\n    <tr>\n      <th>Attemptnumber_2</th>\n      <td>0.009572</td>\n    </tr>\n    <tr>\n      <th>Attemptnumber_3</th>\n      <td>-0.561599</td>\n    </tr>\n    <tr>\n      <th>Study_(Wirtschafts-)Mathematik</th>\n      <td>-0.066050</td>\n    </tr>\n    <tr>\n      <th>Study_WirtschaftsInformatik</th>\n      <td>0.066064</td>\n    </tr>\n    <tr>\n      <th>Bachelor/Master_Bachelor</th>\n      <td>0.153577</td>\n    </tr>\n    <tr>\n      <th>Bachelor/Master_Master</th>\n      <td>-0.153562</td>\n    </tr>\n    <tr>\n      <th>Time Category_0-30</th>\n      <td>-1.977947</td>\n    </tr>\n    <tr>\n      <th>Time Category_31-60</th>\n      <td>1.189441</td>\n    </tr>\n    <tr>\n      <th>Time Category_61-90</th>\n      <td>0.788520</td>\n    </tr>\n  </tbody>\n</table>\n</div>"
     },
     "execution_count": 107,
     "metadata": {},
     "output_type": "execute_result"
    }
   ],
   "source": [
    "X = one_hot_data.drop('Status', axis=1)\n",
    "y = one_hot_data['Status']\n",
    "\n",
    "X_train, X_test, y_train, y_test = train_test_split(X, y, test_size=0.3, random_state=42)\n",
    "\n",
    "model = LogisticRegression(max_iter=1000)\n",
    "model.fit(X_train, y_train)\n",
    "\n",
    "y_pred = model.predict(X_test)\n",
    "\n",
    "conf_matrix = confusion_matrix(y_test, y_pred)\n",
    "class_report = classification_report(y_test, y_pred)\n",
    "\n",
    "plt.figure(figsize=(8, 6))\n",
    "sns.heatmap(conf_matrix, annot=True, fmt='g')\n",
    "plt.title('Confusion Matrix')\n",
    "plt.ylabel('Actual Label')\n",
    "plt.xlabel('Predicted Label')\n",
    "plt.show()\n",
    "\n",
    "print(class_report)\n",
    "\n",
    "coefficients = pd.DataFrame(model.coef_[0], X.columns, columns=['Coefficient'])\n",
    "coefficients"
   ],
   "metadata": {
    "collapsed": false,
    "ExecuteTime": {
     "end_time": "2024-01-13T19:09:07.170291Z",
     "start_time": "2024-01-13T19:09:06.681926600Z"
    }
   },
   "id": "5baed3dc5dc70d0"
  },
  {
   "cell_type": "markdown",
   "source": [
    "### Model Coefficients\n",
    "\n",
    "The coefficients indicate the relationship between each feature and the likelihood of passing (positive coefficients) or failing (negative coefficients). In the model:\n",
    "\n",
    "- **Strong Negative Impact on passing:** Time Category_0-30 (strongest impact, indicating that completing the exam very quickly increases the chance of failing).\n",
    "- **Positive Impact on passing:** Time Category_31-60 and Time Category_61-90 (longer time categories are positively associated with passing).\n",
    "- **Other Notable Coefficients:**\n",
    "    - Year_2022 has a negative impact, while Year_2023 and Year_2021 have a positive impact on passing.\n",
    "    - Attemptnumber_1 positively correlates with passing, while Attemptnumber_3 has a negative correlation.\n",
    "    - Bachelor/Master_Bachelor has a positive impact, while Bachelor/Master_Master has a negative impact.\n",
    "\n",
    "### Interpretation\n",
    "\n",
    "- The most influential factor appears to be the time category, particularly the **Time Category_0-30**, which is strongly negatively correlated with passing.\n",
    "- The year of the exam, the number of attempts, and the level of the degree (Bachelor/Master) also play a role but are less impactful than the time taken for the exam.\n",
    "\n",
    "### Attributes that should be used for the visualisation\n",
    "\n",
    "- **Time to complete exam**\n",
    "- **Year**\n",
    "- **Attemptnumber**\n",
    "- **Bachelor/Master**"
   ],
   "metadata": {
    "collapsed": false
   },
   "id": "ba45ebef8318a0c4"
  },
  {
   "cell_type": "code",
   "execution_count": 108,
   "outputs": [],
   "source": [
    "df = pd.read_csv('DesignuebungGradingData.csv')\n",
    "\n",
    "selected_columns = ['Time to complete exam', 'Year', 'Grade', 'Attemptnumber', 'Bachelor/Master']\n",
    "selected_df = df[selected_columns]\n",
    "\n",
    "selected_df.to_csv('FilteredGradingData.csv', index=False)"
   ],
   "metadata": {
    "collapsed": false,
    "ExecuteTime": {
     "end_time": "2024-01-13T19:09:07.287453Z",
     "start_time": "2024-01-13T19:09:07.172293100Z"
    }
   },
   "id": "37e9de9bf15a53bc"
  }
 ],
 "metadata": {
  "kernelspec": {
   "display_name": "Python 3",
   "language": "python",
   "name": "python3"
  },
  "language_info": {
   "codemirror_mode": {
    "name": "ipython",
    "version": 2
   },
   "file_extension": ".py",
   "mimetype": "text/x-python",
   "name": "python",
   "nbconvert_exporter": "python",
   "pygments_lexer": "ipython2",
   "version": "2.7.6"
  }
 },
 "nbformat": 4,
 "nbformat_minor": 5
}
